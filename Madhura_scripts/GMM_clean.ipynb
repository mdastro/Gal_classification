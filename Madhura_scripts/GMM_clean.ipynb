{
 "cells": [
  {
   "cell_type": "code",
   "execution_count": 1,
   "metadata": {
    "collapsed": true
   },
   "outputs": [],
   "source": [
    "import numpy as np\n",
    "import matplotlib.pyplot as plt\n",
    "import pandas as pd\n",
    "from sklearn.mixture import GMM\n",
    "from mpl_toolkits.mplot3d import Axes3D\n",
    "import seaborn as sns\n",
    "#from matplotlib.patches import Ellipse\n",
    "#from scipy import linalg\n",
    "\n",
    "from matplotlib import rc\n",
    "rc('font',**{'family':'sans-serif','sans-serif':['Helvetica']})\n",
    "## for Palatino and other serif fonts use:\n",
    "#rc('font',**{'family':'serif','serif':['Palatino']})\n",
    "rc('text', usetex=True)\n",
    "\n",
    "%matplotlib inline"
   ]
  },
  {
   "cell_type": "markdown",
   "metadata": {},
   "source": [
    "<h1>AGN GMM clustering in four dimensions</h1>"
   ]
  },
  {
   "cell_type": "code",
   "execution_count": 7,
   "metadata": {
    "collapsed": true
   },
   "outputs": [],
   "source": [
    "tmp = pd.read_csv('class_WHAN_BPT.csv')\n",
    "logNA = tmp[\"xx_BPT\"]\n",
    "logOB = tmp[\"yy_BPT\"]\n",
    "logEWH = tmp[\"yy_WHAN\"]\n",
    "logEWN = tmp[\"EW_NII_WHAN\"]"
   ]
  },
  {
   "cell_type": "code",
   "execution_count": 14,
   "metadata": {
    "collapsed": false
   },
   "outputs": [],
   "source": [
    "train = np.c_[logEWH,logNA,logOB,logEWN]"
   ]
  },
  {
   "cell_type": "markdown",
   "metadata": {},
   "source": [
    "<h2>GMM with 2 clusters</h2>"
   ]
  },
  {
   "cell_type": "code",
   "execution_count": 15,
   "metadata": {
    "collapsed": true
   },
   "outputs": [],
   "source": [
    "n_components = 2\n",
    "gmm2 = GMM(n_components=n_components,covariance_type='full')\n",
    "y_gmm2 = gmm2.fit_predict(train)"
   ]
  },
  {
   "cell_type": "markdown",
   "metadata": {},
   "source": [
    "<h2>GMM with 3 clusters</h2>"
   ]
  },
  {
   "cell_type": "code",
   "execution_count": 15,
   "metadata": {
    "collapsed": true
   },
   "outputs": [],
   "source": [
    "n_components = 3\n",
    "gmm3 = GMM(n_components=n_components,covariance_type='full')\n",
    "y_gmm3 = gmm3.fit_predict(train)"
   ]
  },
  {
   "cell_type": "code",
   "execution_count": 16,
   "metadata": {
    "collapsed": false
   },
   "outputs": [],
   "source": [
    "mean = gmm3.means_"
   ]
  },
  {
   "cell_type": "markdown",
   "metadata": {},
   "source": [
    "<h1>AGN GMM clustering in three dimensions</h1>"
   ]
  },
  {
   "cell_type": "code",
   "execution_count": 2,
   "metadata": {
    "collapsed": false
   },
   "outputs": [],
   "source": [
    "tmp = pd.read_csv('class_WHAN_BPT.csv')\n",
    "logNA = tmp[\"xx_BPT\"]\n",
    "logOB = tmp[\"yy_BPT\"]\n",
    "logEW = tmp[\"yy_WHAN\"]"
   ]
  },
  {
   "cell_type": "code",
   "execution_count": 3,
   "metadata": {
    "collapsed": false
   },
   "outputs": [],
   "source": [
    "# for clean_AGN_data.csv\n",
    "\n",
    "#tmp = pd.read_csv('clean_AGN_data.csv')\n",
    "\n",
    "#logNA = tmp['log.AGN.NII.AGN.H_alpha..10.']\n",
    "#logOB = tmp['log.AGN.OIII.AGN.H_beta..10.']\n",
    "#logEW = tmp['log.AGN.EW_H_alpha..10.']"
   ]
  },
  {
   "cell_type": "code",
   "execution_count": 3,
   "metadata": {
    "collapsed": false
   },
   "outputs": [],
   "source": [
    "#train = np.c_[np.log10(tmp['EW_H_alpha']),np.log10(rna),np.log10(rob)]\n",
    "train = np.c_[logEW,logNA,logOB]"
   ]
  },
  {
   "cell_type": "markdown",
   "metadata": {},
   "source": [
    "<h2>GMM with 2 Clusters</h2>"
   ]
  },
  {
   "cell_type": "code",
   "execution_count": 4,
   "metadata": {
    "collapsed": false
   },
   "outputs": [],
   "source": [
    "n_components = 2\n",
    "gmm2 = GMM(n_components=n_components,covariance_type='full')\n",
    "y_gmm2 = gmm2.fit_predict(train)\n",
    "proba = gmm2.predict_proba(train)\n",
    "mean = gmm2.means_"
   ]
  },
  {
   "cell_type": "code",
   "execution_count": 5,
   "metadata": {
    "collapsed": false
   },
   "outputs": [],
   "source": [
    "mean = gmm2.means_"
   ]
  },
  {
   "cell_type": "code",
   "execution_count": null,
   "metadata": {
    "collapsed": true
   },
   "outputs": [],
   "source": [
    "plot_order = [1,0] # run gmm, decide preferred order\n",
    "color_order = [\"Purples\",\"Greens\"]"
   ]
  },
  {
   "cell_type": "code",
   "execution_count": 6,
   "metadata": {
    "collapsed": true
   },
   "outputs": [
    {
     "data": {
      "image/png": "[encoded data removed]",
      "text/plain": [
       "<matplotlib.figure.Figure at 0x10d8dac90>"
      ]
     },
     "metadata": {},
     "output_type": "display_data"
    }
   ],
   "source": [
    "plt.figure(figsize=(15,5))\n",
    "\n",
    "ax2a = plt.subplot(131)\n",
    "for i in np.arange(n_components):\n",
    "    x_plot = logNA[y_gmm2==i]\n",
    "    y_plot = logEW[y_gmm2==i]\n",
    "    start = float(i)*3./(n_components)\n",
    "    cmap = sns.cubehelix_palette(8, start=start, as_cmap=True)\n",
    "    sns.kdeplot(x_plot, y_plot, cmap=cmap, shade=True, shade_lowest=False, alpha=0.7, ax=ax2a)\n",
    "    plt.plot(mean[i][1], mean[i][0], 'k*')\n",
    "#plt.scatter(np.log10(rna),np.log10(tmp['EW_H_alpha']),c=y_gmm2,alpha=0.3,edgecolors='None',cmap='viridis')\n",
    "plt.xlabel('log(NII/H_alpha)')\n",
    "plt.ylabel('log(EW H_alpha)')\n",
    "plt.xlim(-1.5,1.5)\n",
    "plt.ylim(-2.0,4.0)\n",
    "plt.grid()\n",
    "\n",
    "ax2b = plt.subplot(132)\n",
    "for i in np.arange(n_components):\n",
    "    x_plot = logNA[y_gmm2==i]\n",
    "    y_plot = logOB[y_gmm2==i]\n",
    "    start = float(i)*3./(n_components)\n",
    "    cmap = sns.cubehelix_palette(8, start=start, as_cmap=True)\n",
    "    sns.kdeplot(x_plot, y_plot, cmap=cmap, shade=True, shade_lowest=False, ax=ax2b)\n",
    "    plt.plot(mean[i][1], mean[i][2], 'k*')\n",
    "#plt.scatter(np.log10(rna),np.log10(rob),c=y_gmm2,alpha=0.3,edgecolors='None',cmap='viridis')\n",
    "plt.xlabel('log(NII/H_alpha)')\n",
    "plt.ylabel('log(OIII/H_beta)')\n",
    "plt.xlim(-1.5,1.5)\n",
    "plt.ylim(-2.0,2.0)\n",
    "plt.grid()\n",
    "\n",
    "ax2c = plt.subplot(133)\n",
    "for i in np.arange(n_components):\n",
    "    x_plot = logOB[y_gmm2==i]\n",
    "    y_plot = logEW[y_gmm2==i]\n",
    "    start = float(i)*3./(n_components)\n",
    "    cmap = sns.cubehelix_palette(8, start=start, as_cmap=True)\n",
    "    sns.kdeplot(x_plot, y_plot, cmap=cmap, shade=True, shade_lowest=False, ax=ax2c)\n",
    "    plt.plot(mean[i][2], mean[i][0], 'k*')\n",
    "#plt.scatter(np.log10(rob),np.log10(tmp['EW_H_alpha']),c=y_gmm2,alpha=0.3,edgecolors='None',cmap='viridis')\n",
    "plt.xlabel('log(OIII/H_beta)')\n",
    "plt.ylabel('log(EW H_alpha)')\n",
    "plt.xlim(-2.0,2.0)\n",
    "plt.ylim(-2.0,4.0)\n",
    "plt.grid()"
   ]
  },
  {
   "cell_type": "markdown",
   "metadata": {},
   "source": [
    "<h2>GMM with 3 clusters</h2>"
   ]
  },
  {
   "cell_type": "code",
   "execution_count": 4,
   "metadata": {
    "collapsed": false
   },
   "outputs": [],
   "source": [
    "n_components = 3\n",
    "gmm3 = GMM(n_components=n_components,covariance_type='full')\n",
    "#y_gmm3 = gmm3.fit_predict(train)\n",
    "proba = gmm3.predict_proba(train)\n",
    "mean = gmm3.means_"
   ]
  },
  {
   "cell_type": "code",
   "execution_count": 5,
   "metadata": {
    "collapsed": true
   },
   "outputs": [],
   "source": [
    "plot_order = [1,0,2] # run gmm, decide preferred order\n",
    "color_order = [\"BuPu\",\"Oranges\",\"Greens\"]"
   ]
  },
  {
   "cell_type": "code",
   "execution_count": 7,
   "metadata": {
    "collapsed": false,
    "scrolled": true
   },
   "outputs": [
    {
     "data": {
      "image/png": "[encoded data removed]",
      "text/plain": [
       "<matplotlib.figure.Figure at 0x10ce8d450>"
      ]
     },
     "metadata": {},
     "output_type": "display_data"
    }
   ],
   "source": [
    "plt.figure(figsize=(15,5))\n",
    "\n",
    "# WHAN\n",
    "ax3a = plt.subplot(131)\n",
    "for j in np.arange(n_components):\n",
    "    i = plot_order[j]\n",
    "    select = proba[:,i]>0.8\n",
    "    #select = y_gmm3==i\n",
    "    x_plot = logNA[select]\n",
    "    y_plot = logEW[select]\n",
    "    cmap = color_order[j]\n",
    "    sns.kdeplot(x_plot, y_plot, cmap=cmap, shade=True, shade_lowest=False, ax=ax3a)\n",
    "    plt.plot(mean[i][1], mean[i][0], 'k*', ms=6)\n",
    "#plt.scatter(np.log10(rna),np.log10(tmp['EW_H_alpha']),c=y_gmm3,alpha=0.3,edgecolors='None',cmap='viridis')\n",
    "plt.xlabel(r'$\\log([$NII$]/$H$\\alpha)$')\n",
    "plt.ylabel(r'$\\log W_{H\\alpha}$')\n",
    "plt.xlim(-1.5,1.0)\n",
    "plt.ylim(-1.0,2.5)\n",
    "# theoretical and empirical curves\n",
    "ax3a.plot((xleft,xright), (0.5,0.5), 'k--')\n",
    "plt.grid()\n",
    "\n",
    "# BPT\n",
    "ax3b = plt.subplot(132)\n",
    "for j in np.arange(n_components):\n",
    "    i = plot_order[j]\n",
    "    select = proba[:,i]>0.8\n",
    "    #select = y_gmm3==i\n",
    "    x_plot = logNA[select]\n",
    "    y_plot = logOB[select]\n",
    "    cmap = color_order[j]\n",
    "    sns.kdeplot(x_plot, y_plot, cmap=cmap, shade=True, shade_lowest=False, ax=ax3b)\n",
    "    plt.plot(mean[i][1], mean[i][2], 'k*', ms=6)\n",
    "#plt.scatter(np.log10(rna),np.log10(rob),c=y_gmm3,alpha=0.3,edgecolors='None',cmap='viridis')\n",
    "plt.xlabel(r'$\\log([$NII$]/$H$\\alpha)$')\n",
    "plt.ylabel(r'$\\log([$OIII$]/$H$\\beta)$')\n",
    "plt.xlim(-1.5,1.0)\n",
    "plt.ylim(-1.5,1.5)\n",
    "# theoretical and empirical curves\n",
    "[xleft, xright] = ax3b.get_xlim()\n",
    "kauffman_x = np.linspace(xleft, min(-0.2,xright), 20)\n",
    "kauffman_y = 0.61 / (kauffman_x - 0.05) + 1.3\n",
    "ax3b.plot(kauffman_x, kauffman_y, 'k-')\n",
    "kewley_x = np.linspace(xleft, min(0.2,xright), 20)\n",
    "kewley_y = 0.61 / (kewley_x - 0.47) + 1.19\n",
    "ax3b.plot(kewley_x, kewley_y, 'k--')\n",
    "plt.grid()\n",
    "\n",
    "# Third projection\n",
    "ax3c = plt.subplot(133)\n",
    "for j in np.arange(n_components):\n",
    "    i = plot_order[j]\n",
    "    select = proba[:,i]>0.8\n",
    "    #select = y_gmm3==i\n",
    "    x_plot = logOB[select]\n",
    "    y_plot = logEW[select]\n",
    "    cmap = color_order[j]\n",
    "    sns.kdeplot(x_plot, y_plot, cmap=cmap, shade=True, shade_lowest=False, ax=ax3c)\n",
    "    plt.plot(mean[i][2], mean[i][0], 'k*', ms=6)\n",
    "#plt.scatter(np.log10(rob),np.log10(tmp['EW_H_alpha']),c=y_gmm3,alpha=0.3,edgecolors='None',cmap='viridis')\n",
    "plt.xlabel(r'$\\log([$OIII$]/$H$\\beta)$')\n",
    "plt.ylabel(r'$\\log W_{H\\alpha}$')\n",
    "plt.xlim(-1.5,1.5)\n",
    "plt.ylim(-1.0,2.5)\n",
    "plt.grid()"
   ]
  },
  {
   "cell_type": "markdown",
   "metadata": {},
   "source": [
    "<h2>GMM with 4 clusters</h2>"
   ]
  },
  {
   "cell_type": "code",
   "execution_count": null,
   "metadata": {
    "collapsed": true
   },
   "outputs": [],
   "source": [
    "gmm4 = GMM(n_components=4,covariance_type='full')\n",
    "y_gmm4 = gmm4.fit_predict(train)"
   ]
  },
  {
   "cell_type": "code",
   "execution_count": null,
   "metadata": {
    "collapsed": false
   },
   "outputs": [],
   "source": [
    "plt.figure(figsize=(15,5))\n",
    "\n",
    "plt.subplot(131)\n",
    "plt.scatter(np.log10(rna),np.log10(tmp['EW_H_alpha']),c=y_gmm4,alpha=0.3,edgecolors='None',cmap='viridis')\n",
    "plt.xlabel('log(NII/H_alpha)')\n",
    "plt.ylabel('log(EW H_alpha)')\n",
    "plt.xlim(-1.5,1.5)\n",
    "plt.ylim(-2.0,4.0)\n",
    "plt.grid()\n",
    "\n",
    "plt.subplot(132)\n",
    "plt.scatter(np.log10(rna),np.log10(rob),c=y_gmm4,alpha=0.3,edgecolors='None',cmap='viridis')\n",
    "plt.xlabel('log(NII/H_alpha)')\n",
    "plt.ylabel('log(OIII/H_beta)')\n",
    "plt.xlim(-1.5,1.5)\n",
    "plt.ylim(-2.0,2.0)\n",
    "plt.grid()\n",
    "\n",
    "plt.subplot(133)\n",
    "plt.scatter(np.log10(rob),np.log10(tmp['EW_H_alpha']),c=y_gmm4,alpha=0.3,edgecolors='None',cmap='viridis')\n",
    "plt.xlabel('log(OIII/H_beta)')\n",
    "plt.ylabel('log(EW H_alpha)')\n",
    "plt.xlim(-2.0,2.0)\n",
    "plt.ylim(-2.0,4.0)\n",
    "plt.grid()"
   ]
  },
  {
   "cell_type": "code",
   "execution_count": null,
   "metadata": {
    "collapsed": true
   },
   "outputs": [],
   "source": []
  }
 ],
 "metadata": {
  "kernelspec": {
   "display_name": "Python 2",
   "language": "python",
   "name": "python2"
  },
  "language_info": {
   "codemirror_mode": {
    "name": "ipython",
    "version": 2
   },
   "file_extension": ".py",
   "mimetype": "text/x-python",
   "name": "python",
   "nbconvert_exporter": "python",
   "pygments_lexer": "ipython2",
   "version": "2.7.10"
  }
 },
 "nbformat": 4,
 "nbformat_minor": 0
}
